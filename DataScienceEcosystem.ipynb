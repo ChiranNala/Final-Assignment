{
 "cells": [
  {
   "cell_type": "markdown",
   "id": "831d2f40-4c1a-4c3c-a35f-5327df3b4ad6",
   "metadata": {},
   "source": [
    "# Data Science Tools and Ecosystem"
   ]
  },
  {
   "cell_type": "markdown",
   "id": "ae0602ce-3d01-436c-a9c2-f1228ddc0565",
   "metadata": {
    "tags": []
   },
   "source": [
    "In this notebook, Data Science Tools and Ecosystem are summarized."
   ]
  },
  {
   "cell_type": "markdown",
   "id": "09fd3d43-4607-4922-8e0e-bd85becf9fef",
   "metadata": {},
   "source": [
    "**Objectives:**\n",
    "1. Some of the popular languages that Data Scientists use are:\n",
    "2. Some of the commonly used libraries used by Data Scientists include:\n",
    "3. Data Science Tools"
   ]
  },
  {
   "cell_type": "markdown",
   "id": "1bc3ed4a-98f1-4b69-bb70-ae722bb75aac",
   "metadata": {
    "tags": []
   },
   "source": [
    "Some of the popular languages that Data Scientists use are:\n",
    "1. Python\n",
    "2. R\n",
    "3. Julia"
   ]
  },
  {
   "cell_type": "markdown",
   "id": "86442482-aaab-4267-9b3a-10fafa0f309f",
   "metadata": {},
   "source": [
    "Some of the commonly used libraries used by Data Scientists include:\n",
    "1. Pandas\n",
    "2. NumPy\n",
    "3. SciPy\n",
    "4. MatplotLib\n"
   ]
  },
  {
   "cell_type": "markdown",
   "id": "55050d6d-8882-4309-9ba5-f26fd1afb008",
   "metadata": {},
   "source": [
    "|Data Science Tools|\n",
    "|---|\n",
    "|Jupyter Notebooks|\n",
    "|Rstudio|\n",
    "|Spyder|"
   ]
  },
  {
   "cell_type": "markdown",
   "id": "bd982d2b-d28c-4fc1-acfd-dda00028d3b2",
   "metadata": {},
   "source": [
    "### Below are a few examples of evaluating arithmetic expressions in Python"
   ]
  },
  {
   "cell_type": "code",
   "execution_count": 10,
   "id": "2fb2c1dd-ccdf-40d3-943c-0d9832477bd2",
   "metadata": {
    "tags": []
   },
   "outputs": [
    {
     "data": {
      "text/plain": [
       "17"
      ]
     },
     "execution_count": 10,
     "metadata": {},
     "output_type": "execute_result"
    }
   ],
   "source": [
    "# This a simple arithmetic expression to mutiply then add integers\n",
    "\n",
    "(3*4)+5"
   ]
  },
  {
   "cell_type": "code",
   "execution_count": 11,
   "id": "92f5ac83-82fa-4b9f-9ccd-30eba4e4f872",
   "metadata": {
    "tags": []
   },
   "outputs": [
    {
     "data": {
      "text/plain": [
       "3.3333333333333335"
      ]
     },
     "execution_count": 11,
     "metadata": {},
     "output_type": "execute_result"
    }
   ],
   "source": [
    "# This will convert 200 minutes to hours by diving by 60\n",
    "\n",
    "200/60"
   ]
  },
  {
   "cell_type": "markdown",
   "id": "ebce4223-f336-4c82-a329-b40edb26747f",
   "metadata": {},
   "source": [
    "## Author\n",
    "\n",
    "Chiranjeevi Nalapalu"
   ]
  }
 ],
 "metadata": {
  "kernelspec": {
   "display_name": "Python",
   "language": "python",
   "name": "conda-env-python-py"
  },
  "language_info": {
   "codemirror_mode": {
    "name": "ipython",
    "version": 3
   },
   "file_extension": ".py",
   "mimetype": "text/x-python",
   "name": "python",
   "nbconvert_exporter": "python",
   "pygments_lexer": "ipython3",
   "version": "3.7.12"
  }
 },
 "nbformat": 4,
 "nbformat_minor": 5
}
